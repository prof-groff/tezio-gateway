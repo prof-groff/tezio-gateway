{
 "cells": [
  {
   "cell_type": "markdown",
   "id": "54aba359",
   "metadata": {},
   "source": [
    "### Outline of Process\n",
    "\n",
    "Screen 1a <br>\n",
    "\n",
    "Enter Mnemonic Phrase <br>\n",
    "Mnemonic Phrase Length: <br>\n",
    "\\>12 Words<br>\n",
    "18 Words<br>\n",
    "24 Words<br>\n",
    "\n",
    "Screen 1b <br>\n",
    "\n",
    "Enter Mnemonic Phrase <br>\n",
    "Mnemonic Phrase Length: <br>\n",
    "< current selection > <br>\n",
    "\\> Confirm<br>\n",
    "Go Back\n",
    "\n",
    "Screen 2a <br>\n",
    "\n",
    "Enter Mnemonic Phrase <br>\n",
    "Enter Word #< word number > <br>\n",
    "< current selections > <br>\n",
    "\n",
    "Screen 2b <br>\n",
    "\n",
    "Enter Mnemonic Phrase <br>\n",
    "Enter Word #< word number > <br>\n",
    "< current selection > <br>\n",
    "\\>Confirm <br>\n",
    "Go Back\n",
    "\n",
    "Screen 3 <br>\n",
    "\n",
    "Enter Mnemonic Phrase <br>\n",
    "Review entered phrase </br>\n",
    "< current phrase > <br>\n",
    "\\>Confirm <br>\n",
    "Go Back"
   ]
  },
  {
   "cell_type": "code",
   "execution_count": null,
   "id": "d99ab921",
   "metadata": {},
   "outputs": [],
   "source": []
  }
 ],
 "metadata": {
  "kernelspec": {
   "display_name": "Python 3 (ipykernel)",
   "language": "python",
   "name": "python3"
  },
  "language_info": {
   "codemirror_mode": {
    "name": "ipython",
    "version": 3
   },
   "file_extension": ".py",
   "mimetype": "text/x-python",
   "name": "python",
   "nbconvert_exporter": "python",
   "pygments_lexer": "ipython3",
   "version": "3.11.7"
  }
 },
 "nbformat": 4,
 "nbformat_minor": 5
}
